{
 "cells": [
  {
   "cell_type": "markdown",
   "metadata": {},
   "source": [
    "- input dir: 2-13-cleaned-all\n",
    "    - data format: `[estimated_dis, pwm_mid, distance_2_tan, radian_at_tan, distance_integral]`\n",
    "- output dir: 2-13-regenerated-data"
   ]
  },
  {
   "cell_type": "code",
   "execution_count": 10,
   "metadata": {},
   "outputs": [],
   "source": [
    "%matplotlib inline\n",
    "import matplotlib.pyplot as plt\n",
    "import numpy as np\n",
    "\n",
    "from os import listdir\n",
    "from os.path import isfile, join\n",
    "\n",
    "input_dir = './2-13-cleaned-all'\n",
    "output_dir = './2-13-regenerated-data'"
   ]
  },
  {
   "cell_type": "code",
   "execution_count": 5,
   "metadata": {},
   "outputs": [],
   "source": [
    "def convert_estimated_distance_to_cm(ed):\n",
    "    return ed * (80.0 / 103.0)"
   ]
  },
  {
   "cell_type": "code",
   "execution_count": 12,
   "metadata": {},
   "outputs": [
    {
     "name": "stdout",
     "output_type": "stream",
     "text": [
      "['2-13-k08-car2-2-clearned-all.npy', '2-13-k10-car2-2-clearned-all.npy', '2-13-k09-car2-3-clearned-all.npy', '2-13-k05-car2-2-clearned-all.npy', '2-13-k10-car2-5-clearned-all.npy', '2-13-k07-car2-5-clearned-all.npy', '2-13-k01-car2-4-clearned-all.npy', '2-13-k08-car2-3-clearned-all.npy', '2-13-k01-car2-1-clearned-all.npy', '2-13-k05-car2-4-clearned-all.npy', '2-13-k07-car2-3-clearned-all.npy', '2-13-k01-car2-2-clearned-all.npy', '2-13-k10-car2-1-clearned-all.npy', '2-13-k05-car2-1-clearned-all.npy', '2-13-k07-car2-4-clearned-all.npy', '2-13-k07-car2-2-clearned-all.npy', '2-13-k05-car2-3-clearned-all.npy', '2-13-k01-car2-5-clearned-all.npy', '2-13-k08-car2-4-clearned-all.npy', '2-13-k10-car2-3-clearned-all.npy', '2-13-k10-car2-4-clearned-all.npy', '2-13-k05-car2-5-clearned-all.npy', '2-13-k09-car2-4-clearned-all.npy', '2-13-k08-car2-1-clearned-all.npy', '2-13-k09-car2-2-clearned-all.npy', '2-13-k08-car2-5-clearned-all.npy', '2-13-k07-car2-1-clearned-all.npy', '2-13-k09-car2-5-clearned-all.npy', '2-13-k01-car2-3-clearned-all.npy', '2-13-k09-car2-1-clearned-all.npy']\n"
     ]
    }
   ],
   "source": [
    "input_file_names = [f for f in listdir(input_dir) if isfile(join(input_dir, f))]\n",
    "print(input_file_names)"
   ]
  },
  {
   "cell_type": "code",
   "execution_count": 9,
   "metadata": {},
   "outputs": [
    {
     "name": "stdout",
     "output_type": "stream",
     "text": [
      "[ 130.           60.            2.           -0.23715865 -144.78458434]\n",
      "[140.68340776   2.          -0.23715865  60.         -38.6046614 ]\n"
     ]
    }
   ],
   "source": [
    "# regenerate data from collected data\n",
    "data = np.load('2-13-cleaned-all/2-13-k01-car2-1-clearned-all.npy')\n",
    "m, n = data.shape\n",
    "# [d_arc, distance_to_tangent, theta, pwm_mid, pwm_diff]\n",
    "regenerated_data = np.zeros((m, 5))\n",
    "\n",
    "r = 103.0 # measured radius value (80cm)\n",
    "K = np.array([ -5.31304863, -39.14152144,  -0.27591341])\n",
    "data = np.load('2-13-cleaned-all/2-13-k01-car2-1-clearned-all.npy')\n",
    "\n",
    "for i, data_point in enumerate(data):\n",
    "    estimated_dis, pwm_mid, dis2tan, radian_at_tan, distance_integral = data_point\n",
    "    d_arc = 2 * np.arcsin(estimated_dis / (2. * r)) * r\n",
    "    state = np.array([dis2tan, radian_at_tan, distance_integral])\n",
    "    pwm_diff = np.clip(-np.matmul(K, state), -100.0, 100.0)\n",
    "    regenerated_data[i] = [d_arc, dis2tan, radian_at_tan, pwm_mid, pwm_diff]\n",
    "\n",
    "print(data[0])\n",
    "print(regenerated_data[0])\n",
    "# np.save()"
   ]
  },
  {
   "cell_type": "code",
   "execution_count": null,
   "metadata": {},
   "outputs": [],
   "source": []
  }
 ],
 "metadata": {
  "kernelspec": {
   "display_name": "Python 3",
   "language": "python",
   "name": "python3"
  },
  "language_info": {
   "codemirror_mode": {
    "name": "ipython",
    "version": 3
   },
   "file_extension": ".py",
   "mimetype": "text/x-python",
   "name": "python",
   "nbconvert_exporter": "python",
   "pygments_lexer": "ipython3",
   "version": "3.5.6"
  }
 },
 "nbformat": 4,
 "nbformat_minor": 2
}
