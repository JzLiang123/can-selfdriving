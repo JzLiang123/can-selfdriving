{
 "cells": [
  {
   "cell_type": "code",
   "execution_count": 1,
   "metadata": {},
   "outputs": [],
   "source": [
    "\n",
    "import matplotlib.pyplot as plt\n",
    "import numpy as np"
   ]
  },
  {
   "cell_type": "code",
   "execution_count": 6,
   "metadata": {},
   "outputs": [],
   "source": [
    "testing_Ks = [\n",
    "    # 0\n",
    "    'controller_q11_100_q_22_10_q_33_05npy.npy',  # 0\n",
    "    'controller_q11_10_q_22_100_q_33_50npy.npy',  # 1\n",
    "    'controller_q11_100_q_22_01_q_33_05npy.npy',  # 2 best for now\n",
    "    'controller_q11_10_q_22_100_q_33_05npy.npy',  # 3\n",
    "    # 4\n",
    "    'controller_q11_10_q_22_10_q_33_005npy.npy',  # 4\n",
    "    'controller_q11_10_q_22_100_q_33_005npy.npy', # 5\n",
    "    'controller_q11_100_q_22_01_q_33_005npy.npy', # 6 bad\n",
    "    'controller_q11_100_q_22_10_q_33_50npy.npy',  # 7 very bad\n",
    "    # 8\n",
    "    'controller_q11_100_q_22_100_q_33_05npy.npy', # 8 very bad\n",
    "    'controller_q11_01_q_22_100_q_33_005npy.npy', # 9 bad\n",
    "    'controller_q11_01_q_22_10_q_33_005npy.npy',  # 10 very very bad\n",
    "    'controller_q11_10_q_22_10_q_33_05npy.npy',   # 11\n",
    "    # 12\n",
    "    'controller_q11_01_q_22_01_q_33_005npy.npy',  # 12 good\n",
    "    'controller_q11_01_q_22_100_q_33_05npy.npy',  # 13 missing\n",
    "    'controller_q11_10_q_22_01_q_33_50npy.npy',   # 14\n",
    "    'controller_q11_100_q_22_100_q_33_50npy.npy', # 15 good\n",
    "    'controller_q11_01_q_22_10_q_33_05npy.npy',   # 16\n",
    "    'controller_q11_01_q_22_10_q_33_50npy.npy',   # 17\n",
    "    'controller_q11_01_q_22_100_q_33_50npy.npy',  # 18\n",
    "    'controller_q11_01_q_22_01_q_33_05npy.npy',   # 19\n",
    "    'controller_q11_100_q_22_100_q_33_005npy.npy',  # 20\n",
    "    'controller_q11_10_q_22_01_q_33_05npy.npy',   # 21\n",
    "    'controller_q11_01_q_22_01_q_33_50npy.npy',   # 22\n",
    "    'controller_q11_10_q_22_01_q_33_005npy.npy',  # 23\n",
    "    'controller_q11_100_q_22_01_q_33_50npy.npy',  # 24\n",
    "    'controller_q11_100_q_22_10_q_33_005npy.npy', # 25\n",
    "    'controller_q11_10_q_22_10_q_33_50npy.npy'\n",
    "]\n",
    "\n",
    "dir_name = './compare-controllers/'"
   ]
  },
  {
   "cell_type": "code",
   "execution_count": 7,
   "metadata": {},
   "outputs": [],
   "source": [
    "# find out at which point the car starts to find the red label\n",
    "def calculate_start_point(dis, after):\n",
    "    for i in range(after, len(dis) - 1):\n",
    "        if dis[i] > dis[i+1]:\n",
    "            return i\n",
    "    return -1"
   ]
  },
  {
   "cell_type": "code",
   "execution_count": 19,
   "metadata": {},
   "outputs": [],
   "source": [
    "def visualize(model_id):\n",
    "    result = np.load(dir_name + testing_Ks[model_id])\n",
    "    n = len(result)\n",
    "    plt.figure()\n",
    "    plt.xlabel('time step')\n",
    "    plt.ylabel('distance to the previous car')\n",
    "    plt.title(testing_Ks[model_id])\n",
    "    plt.plot(result[:,0], label=testing_Ks[model_id])\n",
    "#     x = np.arange(0, n, 1)\n",
    "    baseline = [90] * n\n",
    "    plt.plot(baseline, 'y', label='baseline')"
   ]
  },
  {
   "cell_type": "code",
   "execution_count": 21,
   "metadata": {},
   "outputs": [
    {
     "ename": "FileNotFoundError",
     "evalue": "[Errno 2] No such file or directory: './compare-controllers/controller_q11_01_q_22_100_q_33_05npy.npy'",
     "output_type": "error",
     "traceback": [
      "\u001b[0;31m---------------------------------------------------------------------------\u001b[0m",
      "\u001b[0;31mFileNotFoundError\u001b[0m                         Traceback (most recent call last)",
      "\u001b[0;32m<ipython-input-21-2463fde99257>\u001b[0m in \u001b[0;36m<module>\u001b[0;34m()\u001b[0m\n\u001b[1;32m      2\u001b[0m \u001b[0;31m#     visualize(i)\u001b[0m\u001b[0;34m\u001b[0m\u001b[0;34m\u001b[0m\u001b[0m\n\u001b[1;32m      3\u001b[0m \u001b[0;32mfor\u001b[0m \u001b[0mi\u001b[0m \u001b[0;32min\u001b[0m \u001b[0mrange\u001b[0m\u001b[0;34m(\u001b[0m\u001b[0;36m13\u001b[0m\u001b[0;34m,\u001b[0m \u001b[0;36m14\u001b[0m\u001b[0;34m)\u001b[0m\u001b[0;34m:\u001b[0m\u001b[0;34m\u001b[0m\u001b[0m\n\u001b[0;32m----> 4\u001b[0;31m     \u001b[0mvisualize\u001b[0m\u001b[0;34m(\u001b[0m\u001b[0mi\u001b[0m\u001b[0;34m)\u001b[0m\u001b[0;34m\u001b[0m\u001b[0m\n\u001b[0m",
      "\u001b[0;32m<ipython-input-19-d0f578d77836>\u001b[0m in \u001b[0;36mvisualize\u001b[0;34m(model_id)\u001b[0m\n\u001b[1;32m      1\u001b[0m \u001b[0;32mdef\u001b[0m \u001b[0mvisualize\u001b[0m\u001b[0;34m(\u001b[0m\u001b[0mmodel_id\u001b[0m\u001b[0;34m)\u001b[0m\u001b[0;34m:\u001b[0m\u001b[0;34m\u001b[0m\u001b[0m\n\u001b[0;32m----> 2\u001b[0;31m     \u001b[0mresult\u001b[0m \u001b[0;34m=\u001b[0m \u001b[0mnp\u001b[0m\u001b[0;34m.\u001b[0m\u001b[0mload\u001b[0m\u001b[0;34m(\u001b[0m\u001b[0mdir_name\u001b[0m \u001b[0;34m+\u001b[0m \u001b[0mtesting_Ks\u001b[0m\u001b[0;34m[\u001b[0m\u001b[0mmodel_id\u001b[0m\u001b[0;34m]\u001b[0m\u001b[0;34m)\u001b[0m\u001b[0;34m\u001b[0m\u001b[0m\n\u001b[0m\u001b[1;32m      3\u001b[0m     \u001b[0mn\u001b[0m \u001b[0;34m=\u001b[0m \u001b[0mlen\u001b[0m\u001b[0;34m(\u001b[0m\u001b[0mresult\u001b[0m\u001b[0;34m)\u001b[0m\u001b[0;34m\u001b[0m\u001b[0m\n\u001b[1;32m      4\u001b[0m     \u001b[0mplt\u001b[0m\u001b[0;34m.\u001b[0m\u001b[0mfigure\u001b[0m\u001b[0;34m(\u001b[0m\u001b[0;34m)\u001b[0m\u001b[0;34m\u001b[0m\u001b[0m\n\u001b[1;32m      5\u001b[0m     \u001b[0mplt\u001b[0m\u001b[0;34m.\u001b[0m\u001b[0mxlabel\u001b[0m\u001b[0;34m(\u001b[0m\u001b[0;34m'time step'\u001b[0m\u001b[0;34m)\u001b[0m\u001b[0;34m\u001b[0m\u001b[0m\n",
      "\u001b[0;32m~/anaconda3/lib/python3.5/site-packages/numpy/lib/npyio.py\u001b[0m in \u001b[0;36mload\u001b[0;34m(file, mmap_mode, allow_pickle, fix_imports, encoding)\u001b[0m\n\u001b[1;32m    370\u001b[0m     \u001b[0mown_fid\u001b[0m \u001b[0;34m=\u001b[0m \u001b[0;32mFalse\u001b[0m\u001b[0;34m\u001b[0m\u001b[0m\n\u001b[1;32m    371\u001b[0m     \u001b[0;32mif\u001b[0m \u001b[0misinstance\u001b[0m\u001b[0;34m(\u001b[0m\u001b[0mfile\u001b[0m\u001b[0;34m,\u001b[0m \u001b[0mbasestring\u001b[0m\u001b[0;34m)\u001b[0m\u001b[0;34m:\u001b[0m\u001b[0;34m\u001b[0m\u001b[0m\n\u001b[0;32m--> 372\u001b[0;31m         \u001b[0mfid\u001b[0m \u001b[0;34m=\u001b[0m \u001b[0mopen\u001b[0m\u001b[0;34m(\u001b[0m\u001b[0mfile\u001b[0m\u001b[0;34m,\u001b[0m \u001b[0;34m\"rb\"\u001b[0m\u001b[0;34m)\u001b[0m\u001b[0;34m\u001b[0m\u001b[0m\n\u001b[0m\u001b[1;32m    373\u001b[0m         \u001b[0mown_fid\u001b[0m \u001b[0;34m=\u001b[0m \u001b[0;32mTrue\u001b[0m\u001b[0;34m\u001b[0m\u001b[0m\n\u001b[1;32m    374\u001b[0m     \u001b[0;32melif\u001b[0m \u001b[0mis_pathlib_path\u001b[0m\u001b[0;34m(\u001b[0m\u001b[0mfile\u001b[0m\u001b[0;34m)\u001b[0m\u001b[0;34m:\u001b[0m\u001b[0;34m\u001b[0m\u001b[0m\n",
      "\u001b[0;31mFileNotFoundError\u001b[0m: [Errno 2] No such file or directory: './compare-controllers/controller_q11_01_q_22_100_q_33_05npy.npy'"
     ]
    }
   ],
   "source": [
    "# for i in range(0, 13):\n",
    "#     visualize(i)\n",
    "for i in range(13, 14):\n",
    "    visualize(i)"
   ]
  },
  {
   "cell_type": "code",
   "execution_count": null,
   "metadata": {},
   "outputs": [],
   "source": []
  }
 ],
 "metadata": {
  "kernelspec": {
   "display_name": "Python 3",
   "language": "python",
   "name": "python3"
  },
  "language_info": {
   "codemirror_mode": {
    "name": "ipython",
    "version": 3
   },
   "file_extension": ".py",
   "mimetype": "text/x-python",
   "name": "python",
   "nbconvert_exporter": "python",
   "pygments_lexer": "ipython3",
   "version": "3.5.6"
  }
 },
 "nbformat": 4,
 "nbformat_minor": 2
}
